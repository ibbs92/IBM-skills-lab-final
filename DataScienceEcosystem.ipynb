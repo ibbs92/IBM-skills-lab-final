{
 "cells": [
  {
   "cell_type": "markdown",
   "id": "1ef0d61e",
   "metadata": {},
   "source": [
    "# Data Science Tools and Ecosystem"
   ]
  },
  {
   "cell_type": "markdown",
   "id": "bfa09ad1",
   "metadata": {},
   "source": [
    "In this notebook, Data Science Tools and Ecosystem are summarized."
   ]
  },
  {
   "cell_type": "markdown",
   "id": "f3b5f10c",
   "metadata": {},
   "source": [
    "Some of the popular languages that Data Scientists use are: \n",
    "1. Python\n",
    "2. R\n",
    "3. Java\n",
    "4. SQL"
   ]
  },
  {
   "cell_type": "markdown",
   "id": "2ddd8e34",
   "metadata": {},
   "source": [
    "**Objectives:**\n",
    "- List popular languages for Data Science -\n",
    "- List popular libraries for Data Science -\n",
    "- Create a markdown cell with a table -\n",
    "    \n"
   ]
  },
  {
   "cell_type": "markdown",
   "id": "017d6ea6",
   "metadata": {},
   "source": [
    "Some of the commonly used libraries used by Data Scientists include:\n",
    "1. Pandas\n",
    "2. NumPy\n",
    "3. PyTorch\n",
    "4. TensorFlow\n",
    "    "
   ]
  },
  {
   "cell_type": "markdown",
   "id": "14e42e11",
   "metadata": {},
   "source": [
    "|Data Science Tools|\n",
    "|------------------|\n",
    "|Git|\n",
    "|MySQL|\n",
    "|Vs Studio|\n"
   ]
  },
  {
   "cell_type": "markdown",
   "id": "ea8eccc0",
   "metadata": {},
   "source": [
    "### Below are a few examples of evaluating arithmetic expressions in Python"
   ]
  },
  {
   "cell_type": "markdown",
   "id": "97517fde",
   "metadata": {},
   "source": [
    "This is a simple arithmetic expression to multiply then add integers  \n"
   ]
  },
  {
   "cell_type": "code",
   "execution_count": 9,
   "id": "aa4e017b",
   "metadata": {},
   "outputs": [
    {
     "data": {
      "text/plain": [
       "17"
      ]
     },
     "execution_count": 9,
     "metadata": {},
     "output_type": "execute_result"
    }
   ],
   "source": [
    "(3*4)+5\n"
   ]
  },
  {
   "cell_type": "markdown",
   "id": "3516e69c",
   "metadata": {},
   "source": [
    "Converting minutes to hours \n"
   ]
  },
  {
   "cell_type": "code",
   "execution_count": 22,
   "id": "59ab8316",
   "metadata": {},
   "outputs": [
    {
     "data": {
      "text/plain": [
       "3.3333333333333335"
      ]
     },
     "execution_count": 22,
     "metadata": {},
     "output_type": "execute_result"
    }
   ],
   "source": [
    "200/60\n",
    "\n"
   ]
  },
  {
   "cell_type": "markdown",
   "id": "687794e4",
   "metadata": {},
   "source": [
    "## Author ##\n",
    "Ibrahim Ahmed"
   ]
  },
  {
   "cell_type": "code",
   "execution_count": null,
   "id": "e5a09def",
   "metadata": {},
   "outputs": [],
   "source": []
  }
 ],
 "metadata": {
  "kernelspec": {
   "display_name": "Python 3 (ipykernel)",
   "language": "python",
   "name": "python3"
  },
  "language_info": {
   "codemirror_mode": {
    "name": "ipython",
    "version": 3
   },
   "file_extension": ".py",
   "mimetype": "text/x-python",
   "name": "python",
   "nbconvert_exporter": "python",
   "pygments_lexer": "ipython3",
   "version": "3.11.5"
  }
 },
 "nbformat": 4,
 "nbformat_minor": 5
}
